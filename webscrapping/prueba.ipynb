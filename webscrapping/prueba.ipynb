{
 "cells": [
  {
   "cell_type": "code",
   "execution_count": 3,
   "metadata": {},
   "outputs": [
    {
     "name": "stdout",
     "output_type": "stream",
     "text": [
      "Directorio actual de trabajo: /Users/juanlu_navarro/Documents/Carrera Juan/programacion/Champions/webscrapping\n"
     ]
    }
   ],
   "source": [
    "import os\n",
    "\n",
    "print(\"Directorio actual de trabajo:\", os.getcwd())\n"
   ]
  },
  {
   "cell_type": "code",
   "execution_count": 4,
   "metadata": {},
   "outputs": [],
   "source": [
    "import os\n",
    "\n",
    "# Asegúrate de que el directorio para el archivo CSV existe\n",
    "directory = 'datos'\n",
    "if not os.path.exists(directory):\n",
    "    os.makedirs(directory)  # Crea el directorio si no existe\n"
   ]
  },
  {
   "cell_type": "code",
   "execution_count": null,
   "metadata": {},
   "outputs": [],
   "source": [
    "file_path = os.path.join(os.getcwd(), 'datos', 'goleadores.csv')\n",
    "with open(file_path, 'w', newline='', encoding='utf-8') as file:\n",
    "    # tu código aquí\n"
   ]
  }
 ],
 "metadata": {
  "kernelspec": {
   "display_name": "nuevo_champions",
   "language": "python",
   "name": "python3"
  },
  "language_info": {
   "codemirror_mode": {
    "name": "ipython",
    "version": 3
   },
   "file_extension": ".py",
   "mimetype": "text/x-python",
   "name": "python",
   "nbconvert_exporter": "python",
   "pygments_lexer": "ipython3",
   "version": "3.8.19"
  }
 },
 "nbformat": 4,
 "nbformat_minor": 2
}
